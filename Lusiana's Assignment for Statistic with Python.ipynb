{
 "cells": [
  {
   "cell_type": "code",
   "execution_count": 1,
   "id": "d7fb3163",
   "metadata": {},
   "outputs": [
    {
     "name": "stdout",
     "output_type": "stream",
     "text": [
      "Requirement already satisfied: pandas in c:\\users\\980171\\anaconda3\\envs\\telkom_athon\\lib\\site-packages (1.1.5)\n",
      "Requirement already satisfied: python-dateutil>=2.7.3 in c:\\users\\980171\\anaconda3\\envs\\telkom_athon\\lib\\site-packages (from pandas) (2.8.2)\n",
      "Requirement already satisfied: pytz>=2017.2 in c:\\users\\980171\\anaconda3\\envs\\telkom_athon\\lib\\site-packages (from pandas) (2023.3)\n",
      "Requirement already satisfied: numpy>=1.15.4 in c:\\users\\980171\\anaconda3\\envs\\telkom_athon\\lib\\site-packages (from pandas) (1.24.3)\n",
      "Requirement already satisfied: six>=1.5 in c:\\users\\980171\\anaconda3\\envs\\telkom_athon\\lib\\site-packages (from python-dateutil>=2.7.3->pandas) (1.16.0)\n"
     ]
    }
   ],
   "source": [
    "!pip install pandas"
   ]
  },
  {
   "cell_type": "code",
   "execution_count": 2,
   "id": "7be789c3",
   "metadata": {},
   "outputs": [],
   "source": [
    "import pandas as pd"
   ]
  },
  {
   "cell_type": "code",
   "execution_count": 7,
   "id": "8edf527e",
   "metadata": {},
   "outputs": [],
   "source": [
    "boston_url = 'https://cf-courses-data.s3.us.cloud-object-storage.appdomain.cloud/IBMDeveloperSkillsNetwork-ST0151EN-SkillsNetwork/labs/boston_housing.csv'\n",
    "boston_df=pd.read_csv(boston_url)"
   ]
  },
  {
   "cell_type": "code",
   "execution_count": 4,
   "id": "cc46bf3f",
   "metadata": {},
   "outputs": [
    {
     "name": "stdout",
     "output_type": "stream",
     "text": [
      "Requirement already satisfied: matplotlib in c:\\users\\980171\\anaconda3\\envs\\telkom_athon\\lib\\site-packages (3.7.1)\n",
      "Requirement already satisfied: fonttools>=4.22.0 in c:\\users\\980171\\anaconda3\\envs\\telkom_athon\\lib\\site-packages (from matplotlib) (4.39.4)\n",
      "Requirement already satisfied: contourpy>=1.0.1 in c:\\users\\980171\\anaconda3\\envs\\telkom_athon\\lib\\site-packages (from matplotlib) (1.0.7)\n",
      "Requirement already satisfied: python-dateutil>=2.7 in c:\\users\\980171\\anaconda3\\envs\\telkom_athon\\lib\\site-packages (from matplotlib) (2.8.2)\n",
      "Requirement already satisfied: kiwisolver>=1.0.1 in c:\\users\\980171\\anaconda3\\envs\\telkom_athon\\lib\\site-packages (from matplotlib) (1.4.4)\n",
      "Requirement already satisfied: numpy>=1.20 in c:\\users\\980171\\anaconda3\\envs\\telkom_athon\\lib\\site-packages (from matplotlib) (1.24.3)\n",
      "Requirement already satisfied: importlib-resources>=3.2.0 in c:\\users\\980171\\anaconda3\\envs\\telkom_athon\\lib\\site-packages (from matplotlib) (5.12.0)\n",
      "Requirement already satisfied: pyparsing>=2.3.1 in c:\\users\\980171\\anaconda3\\envs\\telkom_athon\\lib\\site-packages (from matplotlib) (3.0.9)\n",
      "Requirement already satisfied: packaging>=20.0 in c:\\users\\980171\\anaconda3\\envs\\telkom_athon\\lib\\site-packages (from matplotlib) (23.0)\n",
      "Requirement already satisfied: pillow>=6.2.0 in c:\\users\\980171\\anaconda3\\envs\\telkom_athon\\lib\\site-packages (from matplotlib) (9.5.0)\n",
      "Requirement already satisfied: cycler>=0.10 in c:\\users\\980171\\anaconda3\\envs\\telkom_athon\\lib\\site-packages (from matplotlib) (0.11.0)\n",
      "Requirement already satisfied: zipp>=3.1.0 in c:\\users\\980171\\anaconda3\\envs\\telkom_athon\\lib\\site-packages (from importlib-resources>=3.2.0->matplotlib) (3.11.0)\n",
      "Requirement already satisfied: six>=1.5 in c:\\users\\980171\\anaconda3\\envs\\telkom_athon\\lib\\site-packages (from python-dateutil>=2.7->matplotlib) (1.16.0)\n"
     ]
    }
   ],
   "source": [
    "!pip install matplotlib"
   ]
  },
  {
   "cell_type": "code",
   "execution_count": 5,
   "id": "e9c2ec08",
   "metadata": {},
   "outputs": [
    {
     "name": "stdout",
     "output_type": "stream",
     "text": [
      "Requirement already satisfied: numpy in c:\\users\\980171\\anaconda3\\envs\\telkom_athon\\lib\\site-packages (1.24.3)\n"
     ]
    }
   ],
   "source": [
    "!pip install numpy"
   ]
  },
  {
   "cell_type": "code",
   "execution_count": 6,
   "id": "8e6928ec",
   "metadata": {},
   "outputs": [],
   "source": [
    "import matplotlib as plt\n",
    "import numpy as np"
   ]
  },
  {
   "cell_type": "code",
   "execution_count": 8,
   "id": "85f4386c",
   "metadata": {},
   "outputs": [],
   "source": [
    "df = pd.read_csv('boston_housing.csv')"
   ]
  },
  {
   "cell_type": "code",
   "execution_count": 9,
   "id": "98393881",
   "metadata": {},
   "outputs": [
    {
     "data": {
      "text/html": [
       "<div>\n",
       "<style scoped>\n",
       "    .dataframe tbody tr th:only-of-type {\n",
       "        vertical-align: middle;\n",
       "    }\n",
       "\n",
       "    .dataframe tbody tr th {\n",
       "        vertical-align: top;\n",
       "    }\n",
       "\n",
       "    .dataframe thead th {\n",
       "        text-align: right;\n",
       "    }\n",
       "</style>\n",
       "<table border=\"1\" class=\"dataframe\">\n",
       "  <thead>\n",
       "    <tr style=\"text-align: right;\">\n",
       "      <th></th>\n",
       "      <th>Unnamed: 0</th>\n",
       "      <th>CRIM</th>\n",
       "      <th>ZN</th>\n",
       "      <th>INDUS</th>\n",
       "      <th>CHAS</th>\n",
       "      <th>NOX</th>\n",
       "      <th>RM</th>\n",
       "      <th>AGE</th>\n",
       "      <th>DIS</th>\n",
       "      <th>RAD</th>\n",
       "      <th>TAX</th>\n",
       "      <th>PTRATIO</th>\n",
       "      <th>LSTAT</th>\n",
       "      <th>MEDV</th>\n",
       "    </tr>\n",
       "  </thead>\n",
       "  <tbody>\n",
       "    <tr>\n",
       "      <th>0</th>\n",
       "      <td>0</td>\n",
       "      <td>0.00632</td>\n",
       "      <td>18.0</td>\n",
       "      <td>2.31</td>\n",
       "      <td>0.0</td>\n",
       "      <td>0.538</td>\n",
       "      <td>6.575</td>\n",
       "      <td>65.2</td>\n",
       "      <td>4.0900</td>\n",
       "      <td>1.0</td>\n",
       "      <td>296.0</td>\n",
       "      <td>15.3</td>\n",
       "      <td>4.98</td>\n",
       "      <td>24.0</td>\n",
       "    </tr>\n",
       "    <tr>\n",
       "      <th>1</th>\n",
       "      <td>1</td>\n",
       "      <td>0.02731</td>\n",
       "      <td>0.0</td>\n",
       "      <td>7.07</td>\n",
       "      <td>0.0</td>\n",
       "      <td>0.469</td>\n",
       "      <td>6.421</td>\n",
       "      <td>78.9</td>\n",
       "      <td>4.9671</td>\n",
       "      <td>2.0</td>\n",
       "      <td>242.0</td>\n",
       "      <td>17.8</td>\n",
       "      <td>9.14</td>\n",
       "      <td>21.6</td>\n",
       "    </tr>\n",
       "    <tr>\n",
       "      <th>2</th>\n",
       "      <td>2</td>\n",
       "      <td>0.02729</td>\n",
       "      <td>0.0</td>\n",
       "      <td>7.07</td>\n",
       "      <td>0.0</td>\n",
       "      <td>0.469</td>\n",
       "      <td>7.185</td>\n",
       "      <td>61.1</td>\n",
       "      <td>4.9671</td>\n",
       "      <td>2.0</td>\n",
       "      <td>242.0</td>\n",
       "      <td>17.8</td>\n",
       "      <td>4.03</td>\n",
       "      <td>34.7</td>\n",
       "    </tr>\n",
       "    <tr>\n",
       "      <th>3</th>\n",
       "      <td>3</td>\n",
       "      <td>0.03237</td>\n",
       "      <td>0.0</td>\n",
       "      <td>2.18</td>\n",
       "      <td>0.0</td>\n",
       "      <td>0.458</td>\n",
       "      <td>6.998</td>\n",
       "      <td>45.8</td>\n",
       "      <td>6.0622</td>\n",
       "      <td>3.0</td>\n",
       "      <td>222.0</td>\n",
       "      <td>18.7</td>\n",
       "      <td>2.94</td>\n",
       "      <td>33.4</td>\n",
       "    </tr>\n",
       "    <tr>\n",
       "      <th>4</th>\n",
       "      <td>4</td>\n",
       "      <td>0.06905</td>\n",
       "      <td>0.0</td>\n",
       "      <td>2.18</td>\n",
       "      <td>0.0</td>\n",
       "      <td>0.458</td>\n",
       "      <td>7.147</td>\n",
       "      <td>54.2</td>\n",
       "      <td>6.0622</td>\n",
       "      <td>3.0</td>\n",
       "      <td>222.0</td>\n",
       "      <td>18.7</td>\n",
       "      <td>5.33</td>\n",
       "      <td>36.2</td>\n",
       "    </tr>\n",
       "  </tbody>\n",
       "</table>\n",
       "</div>"
      ],
      "text/plain": [
       "   Unnamed: 0     CRIM    ZN  INDUS  CHAS    NOX     RM   AGE     DIS  RAD  \\\n",
       "0           0  0.00632  18.0   2.31   0.0  0.538  6.575  65.2  4.0900  1.0   \n",
       "1           1  0.02731   0.0   7.07   0.0  0.469  6.421  78.9  4.9671  2.0   \n",
       "2           2  0.02729   0.0   7.07   0.0  0.469  7.185  61.1  4.9671  2.0   \n",
       "3           3  0.03237   0.0   2.18   0.0  0.458  6.998  45.8  6.0622  3.0   \n",
       "4           4  0.06905   0.0   2.18   0.0  0.458  7.147  54.2  6.0622  3.0   \n",
       "\n",
       "     TAX  PTRATIO  LSTAT  MEDV  \n",
       "0  296.0     15.3   4.98  24.0  \n",
       "1  242.0     17.8   9.14  21.6  \n",
       "2  242.0     17.8   4.03  34.7  \n",
       "3  222.0     18.7   2.94  33.4  \n",
       "4  222.0     18.7   5.33  36.2  "
      ]
     },
     "execution_count": 9,
     "metadata": {},
     "output_type": "execute_result"
    }
   ],
   "source": [
    "df.head()"
   ]
  },
  {
   "cell_type": "code",
   "execution_count": 10,
   "id": "318b5e40",
   "metadata": {},
   "outputs": [
    {
     "name": "stdout",
     "output_type": "stream",
     "text": [
      "Requirement already satisfied: seaborn in c:\\users\\980171\\anaconda3\\envs\\telkom_athon\\lib\\site-packages (0.12.2)\n",
      "Requirement already satisfied: pandas>=0.25 in c:\\users\\980171\\anaconda3\\envs\\telkom_athon\\lib\\site-packages (from seaborn) (1.1.5)\n",
      "Requirement already satisfied: numpy!=1.24.0,>=1.17 in c:\\users\\980171\\anaconda3\\envs\\telkom_athon\\lib\\site-packages (from seaborn) (1.24.3)\n",
      "Requirement already satisfied: matplotlib!=3.6.1,>=3.1 in c:\\users\\980171\\anaconda3\\envs\\telkom_athon\\lib\\site-packages (from seaborn) (3.7.1)\n",
      "Requirement already satisfied: cycler>=0.10 in c:\\users\\980171\\anaconda3\\envs\\telkom_athon\\lib\\site-packages (from matplotlib!=3.6.1,>=3.1->seaborn) (0.11.0)\n",
      "Requirement already satisfied: pillow>=6.2.0 in c:\\users\\980171\\anaconda3\\envs\\telkom_athon\\lib\\site-packages (from matplotlib!=3.6.1,>=3.1->seaborn) (9.5.0)\n",
      "Requirement already satisfied: pyparsing>=2.3.1 in c:\\users\\980171\\anaconda3\\envs\\telkom_athon\\lib\\site-packages (from matplotlib!=3.6.1,>=3.1->seaborn) (3.0.9)\n",
      "Requirement already satisfied: importlib-resources>=3.2.0 in c:\\users\\980171\\anaconda3\\envs\\telkom_athon\\lib\\site-packages (from matplotlib!=3.6.1,>=3.1->seaborn) (5.12.0)\n",
      "Requirement already satisfied: packaging>=20.0 in c:\\users\\980171\\anaconda3\\envs\\telkom_athon\\lib\\site-packages (from matplotlib!=3.6.1,>=3.1->seaborn) (23.0)\n",
      "Requirement already satisfied: python-dateutil>=2.7 in c:\\users\\980171\\anaconda3\\envs\\telkom_athon\\lib\\site-packages (from matplotlib!=3.6.1,>=3.1->seaborn) (2.8.2)\n",
      "Requirement already satisfied: fonttools>=4.22.0 in c:\\users\\980171\\anaconda3\\envs\\telkom_athon\\lib\\site-packages (from matplotlib!=3.6.1,>=3.1->seaborn) (4.39.4)\n",
      "Requirement already satisfied: kiwisolver>=1.0.1 in c:\\users\\980171\\anaconda3\\envs\\telkom_athon\\lib\\site-packages (from matplotlib!=3.6.1,>=3.1->seaborn) (1.4.4)\n",
      "Requirement already satisfied: contourpy>=1.0.1 in c:\\users\\980171\\anaconda3\\envs\\telkom_athon\\lib\\site-packages (from matplotlib!=3.6.1,>=3.1->seaborn) (1.0.7)\n",
      "Requirement already satisfied: pytz>=2017.2 in c:\\users\\980171\\anaconda3\\envs\\telkom_athon\\lib\\site-packages (from pandas>=0.25->seaborn) (2023.3)\n",
      "Requirement already satisfied: zipp>=3.1.0 in c:\\users\\980171\\anaconda3\\envs\\telkom_athon\\lib\\site-packages (from importlib-resources>=3.2.0->matplotlib!=3.6.1,>=3.1->seaborn) (3.11.0)\n",
      "Requirement already satisfied: six>=1.5 in c:\\users\\980171\\anaconda3\\envs\\telkom_athon\\lib\\site-packages (from python-dateutil>=2.7->matplotlib!=3.6.1,>=3.1->seaborn) (1.16.0)\n"
     ]
    }
   ],
   "source": [
    "!pip install seaborn"
   ]
  },
  {
   "cell_type": "code",
   "execution_count": 10,
   "id": "d02b507b",
   "metadata": {},
   "outputs": [],
   "source": [
    "import seaborn as sns"
   ]
  },
  {
   "cell_type": "code",
   "execution_count": 45,
   "id": "9f3e488a",
   "metadata": {},
   "outputs": [
    {
     "data": {
      "text/plain": [
       "<Axes: >"
      ]
     },
     "execution_count": 45,
     "metadata": {},
     "output_type": "execute_result"
    },
    {
     "data": {
      "image/png": "[encoded data removed]",
      "text/plain": [
       "<Figure size 640x480 with 1 Axes>"
      ]
     },
     "metadata": {},
     "output_type": "display_data"
    }
   ],
   "source": [
    "sns.boxplot(df['MEDV'])"
   ]
  },
  {
   "cell_type": "code",
   "execution_count": 44,
   "id": "71437e1d",
   "metadata": {},
   "outputs": [
    {
     "name": "stdout",
     "output_type": "stream",
     "text": [
      "Index(['Unnamed: 0', 'CRIM', 'ZN', 'INDUS', 'CHAS', 'NOX', 'RM', 'AGE', 'DIS',\n",
      "       'RAD', 'TAX', 'PTRATIO', 'LSTAT', 'MEDV'],\n",
      "      dtype='object')\n"
     ]
    }
   ],
   "source": [
    "boston_data = pd.read_csv(boston_url)\n",
    "a = boston_data['MEDV']\n",
    "b = boston_data['AGE']\n",
    "\n",
    "print(boston_data.columns)"
   ]
  },
  {
   "cell_type": "code",
   "execution_count": 11,
   "id": "9888fca4",
   "metadata": {},
   "outputs": [],
   "source": [
    "from matplotlib import pyplot as plt"
   ]
  },
  {
   "cell_type": "code",
   "execution_count": 33,
   "id": "94190248",
   "metadata": {},
   "outputs": [
    {
     "data": {
      "image/png": "[encoded data removed]",
      "text/plain": [
       "<Figure size 640x480 with 1 Axes>"
      ]
     },
     "metadata": {},
     "output_type": "display_data"
    }
   ],
   "source": [
    "import matplotlib.pyplot as plt\n",
    "\n",
    "boston_data = pd.read_csv(boston_url)\n",
    "a = boston_data['CHAS']\n",
    "b = boston_data['RAD']\n",
    "\n",
    "plt.xlabel('CHAS')  # Sets the x-axis label to \"RAD\"\n",
    "plt.ylabel('RAD')  # Sets the y-axis label to \"CHAS\"\n",
    "plt.title(\"accessibility to radial highways based on tract bounds river\")  # Sets the title of the plot\n",
    "\n",
    "plt.show()  # Displays the plot"
   ]
  },
  {
   "cell_type": "code",
   "execution_count": 29,
   "id": "ac606b99",
   "metadata": {},
   "outputs": [
    {
     "data": {
      "image/png": "[encoded data removed]",
      "text/plain": [
       "<Figure size 640x480 with 1 Axes>"
      ]
     },
     "metadata": {},
     "output_type": "display_data"
    }
   ],
   "source": [
    "boston_data = pd.read_csv(boston_url)\n",
    "a = boston_data['INDUS']\n",
    "b = boston_data['NOX']\n",
    "plt.scatter(a, b)\n",
    "plt.show()"
   ]
  },
  {
   "cell_type": "code",
   "execution_count": 16,
   "id": "9bc8df52",
   "metadata": {},
   "outputs": [
    {
     "data": {
      "image/png": "[encoded data removed]",
      "text/plain": [
       "<Figure size 640x480 with 1 Axes>"
      ]
     },
     "metadata": {},
     "output_type": "display_data"
    }
   ],
   "source": [
    "x = (15.3, 17.8, 17.8, 18.7, 18.7, 18.7, 15.2, 15.2, 15.2, 15.2, 15.2, 15.2, 15.2, 21.10, 21.10, 21.10, 21.10, 21.10, 21.10, 21.10, 21.10, 21.10, 21.10, 21.10, 21.10, 21.10, 21.10, 21.10, 21.10, 21.10, 21.10, 21.10, 21.10, 21.10, 21.10, 19.2, 19.2, 19.2, 19.2, 18.3, 18.3, 17.9, 17.9, 17.9, 17.9, 17.9, 17.9, 17.9, 17.9, 17.9, 16.8, 16.8, 16.8, 21.1, 17.9, 17.3, 15.1, 19.7, 19.7, 19.7, 19.7, 19.7, 19.7, 18.6, 16.1, 16.1, 18.9, 18.9, 18.9, 19.2, 19.2, 19.2, 19.2, 18.7, 18.7, 18.7, 18.7, 18.7, 18.7, 19.0, 19.0, 19.0, 19.0, 18.5, 18.5, 18.5, 18.5, 17.8, 17.8, 17.8, 17.8, 18.2, 18.2, 18.2, 18.0, 18.0, 18.0, 18.0, 18.0, 20.9, 20.9, 20.9, 20.9, 20.9, 20.9, 20.9, 20.9, 20.9, 20.9, 20.9, 17.8, 17.8, 17.8, 17.8, 17.8, 17.8, 17.8, 17.8, 17.8, 19.1, 19.1, 19.1, 19.1, 19.1, 19.1, 19.1, 21.2, 21.2, 21.2, 21.2, 21.2, 21.2, 21.2, 21.2, 21.2, 21.2, 21.2, 21.2, 21.2, 21.2, 21.2, 14.7, 14.7, 14.7, 14.7, 14.7, 14.7, 14.7, 14.7, 14.7, 14.7, 14.7, 14.7, 14.7, 14.7, 14.7, 14.7, 14.7, 14.7, 14.7, 14.7, 14.7, 14.7, 14.7, 14.7, 14.7, 14.7, 14.7, 14.7, 14.7, 14.7, 16.6, 16.6, 16.6, 16.6, 16.6, 16.6, 16.6, 17.8, 17.8, 17.8, 17.8, 17.8, 17.8, 17.8, 17.8, 15.2, 15.2, 15.2, 15.2, 15.2, 15.2, 15.6, 15.6, 14.4, 12.6, 12.6, 12.6, 17.0, 17.0, 14.7, 14.7, 14.7, 14.7, 18.6, 18.6, 18.6, 18.6, 18.6, 18.6, 18.6, 18.6, 18.6, 18.6, 18.6, 16.4, 16.4, 16.4, 16.4, 17.4, 17.4, 17.4, 17.4, 17.4, 17.4, 17.4, 17.4, 17.4, 17.4, 17.4, 17.4, 17.4, 17.4, 17.4, 17.4, 17.4, 17.4, 16.6, 16.6, 16.6, 16.6, 16.6, 16.6, 19.1, 19.1, 19.1, 19.1, 19.1, 19.1, 19.1, 19.1, 19.1, 19.1, 16.4, 16.4, 15.9, 13.0, 13.0, 13.0, 13.0, 13.0, 13.0, 13.0, 13.0, 13.0, 13.0, 13.0, 13.0, 18.6, 18.6, 18.6, 18.6, 18.6, 17.6, 17.6, 17.6, 17.6, 17.6, 14.9, 14.9, 14.9, 14.9, 13.6, 15.3, 15.3, 18.2, 16.6, 16.6, 16.6, 19.2, 19.2, 19.2, 16.0, 16.0, 16.0, 16.0, 16.0, 14.8, 14.8, 14.8, 16.1, 16.1, 16.1, 18.4, 18.4, 18.4, 18.4, 18.4, 18.4, 18.4, 18.4, 18.4, 18.4, 18.4, 18.4, 18.4, 18.4, 18.4, 18.4, 19.6, 19.6, 19.6, 19.6, 19.6, 19.6, 19.6, 19.6, 16.9, 16.9, 16.9, 16.9, 16.9, 20.2, 20.2, 20.2, 20.2, 20.2, 20.2, 20.2, 20.2, 15.5, 15.9, 17.6, 17.6, 18.8, 18.8, 17.9, 17.0, 19.7, 19.7, 18.3, 18.3, 17.0, 22.0, 22.0, 20.2, 20.2, 20.2, 20.2, 20.2, 20.2, 20.2, 20.2, 20.2, 20.2, 20.2, 20.2, 20.2, 20.2, 20.2, 20.2, 20.2, 20.2, 20.2, 20.2, 20.2, 20.2, 20.2, 20.2, 20.2, 20.2, 20.2, 20.2, 20.2, 20.2, 20.2, 20.2, 20.2, 20.2, 20.2, 20.2, 20.2, 20.2, 20.2, 20.2, 20.2, 20.2, 20.2, 20.2, 20.2, 20.2, 20.2, 20.2, 20.2, 20.2, 20.2, 20.2, 20.2, 20.2, 20.2, 20.2, 20.2, 20.2, 20.2, 20.2, 20.2, 20.2, 20.2, 20.2, 20.2, 20.2, 20.2, 20.2, 20.2, 20.2, 20.2, 20.2, 20.2, 20.2, 20.2, 20.2, 20.2, 20.2, 20.2, 20.2, 20.2, 20.2, 20.2, 20.2, 20.2, 20.2, 20.2, 20.2, 20.2, 20.2, 20.2, 20.2, 20.2, 20.2, 20.2, 20.2, 20.2, 20.2, 20.2, 20.2, 20.2, 20.2, 20.2, 20.2, 20.2, 20.2, 20.2, 20.2, 20.2, 20.2, 20.2, 20.2, 20.2, 20.2, 20.2, 20.2, 20.2, 20.2, 20.2, 20.2, 20.2, 20.2, 20.2, 20.2, 20.2, 20.2, 20.2, 20.2, 20.2, 20.2, 20.2, 20.2, 20.1, 20.1, 20.1, 20.1, 20.1, 19.2, 19.2, 19.2, 19.2, 19.2, 19.2, 19.2, 19.2, 21.0, 21.0, 21.0, 21.0, 21.0)\n",
    "plt.hist(x)\n",
    "plt.show() "
   ]
  },
  {
   "cell_type": "code",
   "execution_count": 17,
   "id": "01bb8092",
   "metadata": {},
   "outputs": [
    {
     "name": "stdout",
     "output_type": "stream",
     "text": [
      "Requirement already satisfied: scipy in c:\\users\\980171\\anaconda3\\envs\\telkom_athon\\lib\\site-packages (1.10.1)\n",
      "Requirement already satisfied: numpy<1.27.0,>=1.19.5 in c:\\users\\980171\\anaconda3\\envs\\telkom_athon\\lib\\site-packages (from scipy) (1.24.3)\n"
     ]
    }
   ],
   "source": [
    "!pip install scipy"
   ]
  },
  {
   "cell_type": "code",
   "execution_count": 18,
   "id": "2749e029",
   "metadata": {},
   "outputs": [],
   "source": [
    "import scipy.stats"
   ]
  },
  {
   "cell_type": "code",
   "execution_count": 19,
   "id": "30aa68bc",
   "metadata": {},
   "outputs": [
    {
     "name": "stdout",
     "output_type": "stream",
     "text": [
      "Requirement already satisfied: statsmodels in c:\\users\\980171\\anaconda3\\envs\\telkom_athon\\lib\\site-packages (0.14.0)\n",
      "Requirement already satisfied: scipy!=1.9.2,>=1.4 in c:\\users\\980171\\anaconda3\\envs\\telkom_athon\\lib\\site-packages (from statsmodels) (1.10.1)\n",
      "Requirement already satisfied: patsy>=0.5.2 in c:\\users\\980171\\anaconda3\\envs\\telkom_athon\\lib\\site-packages (from statsmodels) (0.5.3)\n",
      "Requirement already satisfied: packaging>=21.3 in c:\\users\\980171\\anaconda3\\envs\\telkom_athon\\lib\\site-packages (from statsmodels) (23.0)\n",
      "Requirement already satisfied: numpy>=1.18 in c:\\users\\980171\\anaconda3\\envs\\telkom_athon\\lib\\site-packages (from statsmodels) (1.24.3)\n",
      "Requirement already satisfied: pandas>=1.0 in c:\\users\\980171\\anaconda3\\envs\\telkom_athon\\lib\\site-packages (from statsmodels) (1.1.5)\n",
      "Requirement already satisfied: pytz>=2017.2 in c:\\users\\980171\\anaconda3\\envs\\telkom_athon\\lib\\site-packages (from pandas>=1.0->statsmodels) (2023.3)\n",
      "Requirement already satisfied: python-dateutil>=2.7.3 in c:\\users\\980171\\anaconda3\\envs\\telkom_athon\\lib\\site-packages (from pandas>=1.0->statsmodels) (2.8.2)\n",
      "Requirement already satisfied: six in c:\\users\\980171\\anaconda3\\envs\\telkom_athon\\lib\\site-packages (from patsy>=0.5.2->statsmodels) (1.16.0)\n",
      "Note: you may need to restart the kernel to use updated packages.\n"
     ]
    }
   ],
   "source": [
    "pip install statsmodels"
   ]
  },
  {
   "cell_type": "markdown",
   "id": "a26335de",
   "metadata": {},
   "source": [
    "Because the P-Value is higher that 0.05 it means we failed to reject null hypothesis. Which means there is no significant difference in median value of houses bounded by the Charles river or not"
   ]
  },
  {
   "cell_type": "code",
   "execution_count": 20,
   "id": "fb91fb2f",
   "metadata": {},
   "outputs": [],
   "source": [
    "boston_url = 'https://cf-courses-data.s3.us.cloud-object-storage.appdomain.cloud/IBMDeveloperSkillsNetwork-ST0151EN-SkillsNetwork/labs/boston_housing.csv'\n",
    "boston_df=pd.read_csv(boston_url)"
   ]
  },
  {
   "cell_type": "code",
   "execution_count": 21,
   "id": "54323023",
   "metadata": {},
   "outputs": [
    {
     "data": {
      "text/plain": [
       "0      0.0\n",
       "1      0.0\n",
       "2      0.0\n",
       "3      0.0\n",
       "4      0.0\n",
       "      ... \n",
       "501    0.0\n",
       "502    0.0\n",
       "503    0.0\n",
       "504    0.0\n",
       "505    0.0\n",
       "Name: CHAS, Length: 506, dtype: float64"
      ]
     },
     "execution_count": 21,
     "metadata": {},
     "output_type": "execute_result"
    }
   ],
   "source": [
    "data = boston_df ['CHAS']; data"
   ]
  },
  {
   "cell_type": "code",
   "execution_count": 24,
   "id": "0301ec6c",
   "metadata": {
    "scrolled": true
   },
   "outputs": [
    {
     "name": "stdout",
     "output_type": "stream",
     "text": [
      "T-statistic: -44721.33120330548\n",
      "P-value: 0.0\n"
     ]
    }
   ],
   "source": [
    "import numpy as np\n",
    "from scipy import stats\n",
    "\n",
    "a = np.array([1.0, 1.0, 1.0, 1.0, 1.0, 1.0, 1.0, 1.0, 1.0, 1.0, 1.0, 1.0, 1.0, 1.0, 1.0, 1.0, 1.0, 1.0, 1.0, 1.0, 1.0, 1.0, 1.0, 1.0, 1.0, 1.0, 1.0, 1.0, 1.0, 1.0, 1.0, 1.0, 1.0, 1.0, 1.0, 0.0, 0.0, 0.0, 0.0, 0.0, 0.0, 0.0, 0.0, 0.0, 0.0, 0.0, 0.0, 0.0, 0.0, 0.0, 0.0, 0.0, 0.0, 0.0, 0.0, 0.0, 0.0, 0.0, 0.0, 0.0, 0.0, 0.0, 0.0, 0.0, 0.0, 0.0, 0.0, 0.0, 0.0, 0.0, 0.0, 0.0, 0.0, 0.0, 0.0, 0.0, 0.0, 0.0, 0.0, 0.0, 0.0, 0.0, 0.0, 0.0, 0.0, 0.0, 0.0, 0.0, 0.0, 0.0, 0.0, 0.0, 0.0, 0.0, 0.0, 0.0, 0.0, 0.0, 0.0, 0.0, 0.0, 0.0, 0.0, 0.0, 0.0, 0.0, 0.0, 0.0, 0.0, 0.0, 0.0, 0.0, 0.0, 0.0, 0.0, 0.0, 0.0, 0.0, 0.0, 0.0, 0.0, 0.0, 0.0, 0.0, 0.0, 0.0, 0.0, 0.0, 0.0, 0.0, 0.0, 0.0, 0.0, 0.0, 0.0, 0.0, 0.0, 0.0, 0.0, 0.0, 0.0, 0.0, 0.0, 0.0, 0.0, 0.0, 0.0, 0.0, 0.0, 0.0, 0.0, 0.0, 0.0, 0.0, 0.0, 0.0, 0.0, 0.0, 0.0, 0.0, 0.0, 0.0, 0.0, 0.0, 0.0, 0.0, 0.0, 0.0, 0.0, 0.0, 0.0, 0.0, 0.0, 0.0, 0.0, 0.0, 0.0, 0.0, 0.0, 0.0, 0.0, 0.0, 0.0, 0.0, 0.0, 0.0, 0.0, 0.0, 0.0, 0.0, 0.0, 0.0, 0.0, 0.0, 0.0, 0.0, 0.0, 0.0, 0.0, 0.0, 0.0, 0.0, 0.0, 0.0, 0.0, 0.0, 0.0, 0.0, 0.0, 0.0, 0.0, 0.0, 0.0, 0.0, 0.0, 0.0, 0.0, 0.0, 0.0, 0.0, 0.0, 0.0, 0.0, 0.0, 0.0, 0.0, 0.0, 0.0, 0.0, 0.0, 0.0, 0.0, 0.0, 0.0, 0.0, 0.0, 0.0, 0.0, 0.0, 0.0, 0.0, 0.0, 0.0, 0.0, 0.0, 0.0, 0.0, 0.0, 0.0, 0.0, 0.0, 0.0, 0.0, 0.0, 0.0, 0.0, 0.0, 0.0, 0.0, 0.0, 0.0, 0.0, 0.0, 0.0, 0.0, 0.0, 0.0, 0.0, 0.0, 0.0, 0.0, 0.0, 0.0, 0.0, 0.0, 0.0, 0.0, 0.0, 0.0, 0.0, 0.0, 0.0, 0.0, 0.0, 0.0, 0.0, 0.0, 0.0, 0.0, 0.0, 0.0, 0.0, 0.0, 0.0, 0.0, 0.0, 0.0, 0.0, 0.0, 0.0, 0.0, 0.0, 0.0, 0.0, 0.0, 0.0, 0.0, 0.0, 0.0, 0.0, 0.0, 0.0, 0.0, 0.0, 0.0, 0.0, 0.0, 0.0, 0.0, 0.0, 0.0, 0.0, 0.0, 0.0, 0.0, 0.0, 0.0, 0.0, 0.0, 0.0, 0.0, 0.0, 0.0, 0.0, 0.0, 0.0, 0.0, 0.0, 0.0, 0.0, 0.0, 0.0, 0.0, 0.0, 0.0, 0.0, 0.0, 0.0, 0.0, 0.0, 0.0, 0.0, 0.0, 0.0, 0.0, 0.0, 0.0, 0.0, 0.0, 0.0, 0.0, 0.0, 0.0, 0.0, 0.0, 0.0, 0.0, 0.0, 0.0, 0.0, 0.0, 0.0, 0.0, 0.0, 0.0, 0.0, 0.0, 0.0, 0.0, 0.0, 0.0, 0.0, 0.0, 0.0, 0.0, 0.0, 0.0, 0.0, 0.0, 0.0, 0.0, 0.0, 0.0, 0.0, 0.0, 0.0, 0.0, 0.0, 0.0, 0.0, 0.0, 0.0, 0.0, 0.0, 0.0, 0.0, 0.0, 0.0, 0.0, 0.0, 0.0, 0.0, 0.0, 0.0, 0.0, 0.0, 0.0, 0.0, 0.0, 0.0, 0.0, 0.0, 0.0, 0.0, 0.0, 0.0, 0.0, 0.0, 0.0, 0.0, 0.0, 0.0, 0.0, 0.0, 0.0, 0.0, 0.0, 0.0, 0.0, 0.0, 0.0, 0.0, 0.0, 0.0, 0.0, 0.0, 0.0, 0.0, 0.0, 0.0, 0.0, 0.0, 0.0, 0.0, 0.0, 0.0, 0.0, 0.0, 0.0, 0.0, 0.0, 0.0, 0.0, 0.0, 0.0, 0.0, 0.0, 0.0, 0.0, 0.0, 0.0, 0.0, 0.0, 0.0, 0.0, 0.0, 0.0, 0.0, 0.0, 0.0, 0.0, 0.0, 0.0, 0.0, 0.0, 0.0, 0.0, 0.0, 0.0, 0.0, 0.0, 0.0, 0.0, 0.0, 0.0, 0.0, 0.0, 0.0, 0.0, 0.0, 0.0, 0.0, 0.0, 0.0, 0.0])\n",
    "\n",
    "# Perform one-sample t-test\n",
    "t_statistic, p_value = stats.ttest_1samp(a, popmean = 506)\n",
    "\n",
    "\n",
    "# Print the results\n",
    "print(\"T-statistic:\", t_statistic)\n",
    "print(\"P-value:\", p_value)"
   ]
  },
  {
   "cell_type": "code",
   "execution_count": null,
   "id": "30cdb864",
   "metadata": {},
   "outputs": [],
   "source": [
    "Because the P-Value is lower that 0.05 it means we reject null hypothesis. Which means there is significant difference in median value of houses bounded by the Charles river or not"
   ]
  },
  {
   "cell_type": "code",
   "execution_count": 25,
   "id": "bdc3eed4",
   "metadata": {},
   "outputs": [],
   "source": [
    "from scipy.stats import f_oneway"
   ]
  },
  {
   "cell_type": "code",
   "execution_count": 28,
   "id": "7830d5ad",
   "metadata": {},
   "outputs": [
    {
     "data": {
      "text/plain": [
       "F_onewayResult(statistic=1223.1740271875933, pvalue=3.20946197250671e-176)"
      ]
     },
     "execution_count": 28,
     "metadata": {},
     "output_type": "execute_result"
    }
   ],
   "source": [
    "import pandas as pd\n",
    "\n",
    "# Assuming boston_url contains the URL or file path to the Boston dataset\n",
    "boston_data = pd.read_csv(boston_url)\n",
    "performance1 = boston_data['MEDV']\n",
    "performance2 = boston_data['AGE']\n",
    "\n",
    " \n",
    "# Conduct the one-way ANOVA\n",
    "f_oneway(performance1, performance2)"
   ]
  },
  {
   "cell_type": "markdown",
   "id": "6da98bab",
   "metadata": {},
   "source": [
    "#There is no difference in Median values of houses (MEDV) for each proportion of owner occupied units built prior to 1940 (AGE)"
   ]
  },
  {
   "cell_type": "code",
   "execution_count": 34,
   "id": "3d5a365b",
   "metadata": {},
   "outputs": [
    {
     "name": "stdout",
     "output_type": "stream",
     "text": [
      "Pearsons correlation: 0.764\n"
     ]
    }
   ],
   "source": [
    "# Import those libraries\n",
    "import pandas as pd\n",
    "from scipy.stats import pearsonr\n",
    " \n",
    "# Import your data into Python\n",
    "df = pd.read_csv(boston_url)\n",
    " \n",
    "# Convert dataframe into series\n",
    "list1 = df['NOX']\n",
    "list2 = df['INDUS']\n",
    " \n",
    "# Apply the pearsonr()\n",
    "corr, _ = pearsonr(list1, list2)\n",
    "print('Pearsons correlation: %.3f' % corr)"
   ]
  },
  {
   "cell_type": "raw",
   "id": "dcccc158",
   "metadata": {},
   "source": [
    "There is positive direction between NOX and INDUS"
   ]
  },
  {
   "cell_type": "code",
   "execution_count": 35,
   "id": "748f2139",
   "metadata": {},
   "outputs": [
    {
     "name": "stdout",
     "output_type": "stream",
     "text": [
      "Requirement already satisfied: numpy in c:\\users\\980171\\anaconda3\\envs\\telkom_athon\\lib\\site-packages (1.24.3)\n",
      "Collecting scikit-learn\n",
      "  Downloading scikit_learn-1.2.2-cp39-cp39-win_amd64.whl (8.4 MB)\n",
      "     ---------------------------------------- 0.0/8.4 MB ? eta -:--:--\n",
      "      --------------------------------------- 0.2/8.4 MB 10.2 MB/s eta 0:00:01\n",
      "     - -------------------------------------- 0.4/8.4 MB 5.5 MB/s eta 0:00:02\n",
      "     -- ------------------------------------- 0.5/8.4 MB 5.6 MB/s eta 0:00:02\n",
      "     -- ------------------------------------- 0.5/8.4 MB 5.6 MB/s eta 0:00:02\n",
      "     -- ------------------------------------- 0.5/8.4 MB 5.6 MB/s eta 0:00:02\n",
      "     --- ------------------------------------ 0.8/8.4 MB 3.4 MB/s eta 0:00:03\n",
      "     ---- ----------------------------------- 0.9/8.4 MB 2.7 MB/s eta 0:00:03\n",
      "     ---- ----------------------------------- 0.9/8.4 MB 2.6 MB/s eta 0:00:03\n",
      "     ---- ----------------------------------- 0.9/8.4 MB 2.6 MB/s eta 0:00:03\n",
      "     ---- ----------------------------------- 1.0/8.4 MB 2.3 MB/s eta 0:00:04\n",
      "     ------- -------------------------------- 1.6/8.4 MB 3.1 MB/s eta 0:00:03\n",
      "     -------- ------------------------------- 1.7/8.4 MB 3.1 MB/s eta 0:00:03\n",
      "     -------- ------------------------------- 1.7/8.4 MB 3.1 MB/s eta 0:00:03\n",
      "     -------- ------------------------------- 1.7/8.4 MB 3.1 MB/s eta 0:00:03\n",
      "     -------- ------------------------------- 1.8/8.4 MB 2.6 MB/s eta 0:00:03\n",
      "     ---------- ----------------------------- 2.2/8.4 MB 2.9 MB/s eta 0:00:03\n",
      "     ---------- ----------------------------- 2.3/8.4 MB 2.9 MB/s eta 0:00:03\n",
      "     ----------- ---------------------------- 2.4/8.4 MB 2.9 MB/s eta 0:00:03\n",
      "     ----------- ---------------------------- 2.5/8.4 MB 2.8 MB/s eta 0:00:03\n",
      "     ------------ --------------------------- 2.6/8.4 MB 2.8 MB/s eta 0:00:03\n",
      "     ------------ --------------------------- 2.7/8.4 MB 2.8 MB/s eta 0:00:03\n",
      "     ------------ --------------------------- 2.7/8.4 MB 2.8 MB/s eta 0:00:03\n",
      "     ------------- -------------------------- 2.9/8.4 MB 2.8 MB/s eta 0:00:02\n",
      "     -------------- ------------------------- 3.0/8.4 MB 2.7 MB/s eta 0:00:02\n",
      "     -------------- ------------------------- 3.1/8.4 MB 2.7 MB/s eta 0:00:02\n",
      "     --------------- ------------------------ 3.2/8.4 MB 2.7 MB/s eta 0:00:02\n",
      "     --------------- ------------------------ 3.3/8.4 MB 2.7 MB/s eta 0:00:02\n",
      "     ---------------- ----------------------- 3.4/8.4 MB 2.7 MB/s eta 0:00:02\n",
      "     ---------------- ----------------------- 3.4/8.4 MB 2.7 MB/s eta 0:00:02\n",
      "     ----------------- ---------------------- 3.6/8.4 MB 2.7 MB/s eta 0:00:02\n",
      "     ----------------- ---------------------- 3.7/8.4 MB 2.7 MB/s eta 0:00:02\n",
      "     ----------------- ---------------------- 3.7/8.4 MB 2.6 MB/s eta 0:00:02\n",
      "     ------------------ --------------------- 3.8/8.4 MB 2.6 MB/s eta 0:00:02\n",
      "     ------------------ --------------------- 3.9/8.4 MB 2.6 MB/s eta 0:00:02\n",
      "     ------------------ --------------------- 3.9/8.4 MB 2.5 MB/s eta 0:00:02\n",
      "     ------------------ --------------------- 4.0/8.4 MB 2.5 MB/s eta 0:00:02\n",
      "     ------------------- -------------------- 4.0/8.4 MB 2.4 MB/s eta 0:00:02\n",
      "     ------------------- -------------------- 4.1/8.4 MB 2.4 MB/s eta 0:00:02\n",
      "     ------------------- -------------------- 4.1/8.4 MB 2.4 MB/s eta 0:00:02\n",
      "     -------------------- ------------------- 4.2/8.4 MB 2.4 MB/s eta 0:00:02\n",
      "     -------------------- ------------------- 4.2/8.4 MB 2.4 MB/s eta 0:00:02\n",
      "     -------------------- ------------------- 4.3/8.4 MB 2.3 MB/s eta 0:00:02\n",
      "     -------------------- ------------------- 4.4/8.4 MB 2.3 MB/s eta 0:00:02\n",
      "     --------------------- ------------------ 4.4/8.4 MB 2.3 MB/s eta 0:00:02\n",
      "     --------------------- ------------------ 4.5/8.4 MB 2.2 MB/s eta 0:00:02\n",
      "     --------------------- ------------------ 4.5/8.4 MB 2.2 MB/s eta 0:00:02\n",
      "     --------------------- ------------------ 4.5/8.4 MB 2.2 MB/s eta 0:00:02\n",
      "     --------------------- ------------------ 4.5/8.4 MB 2.1 MB/s eta 0:00:02\n",
      "     --------------------- ------------------ 4.6/8.4 MB 2.1 MB/s eta 0:00:02\n",
      "     ---------------------- ----------------- 4.6/8.4 MB 2.1 MB/s eta 0:00:02\n",
      "     ---------------------- ----------------- 4.7/8.4 MB 2.1 MB/s eta 0:00:02\n",
      "     ---------------------- ----------------- 4.7/8.4 MB 2.1 MB/s eta 0:00:02\n",
      "     ---------------------- ----------------- 4.8/8.4 MB 2.0 MB/s eta 0:00:02\n",
      "     ---------------------- ----------------- 4.8/8.4 MB 2.0 MB/s eta 0:00:02\n",
      "     ----------------------- ---------------- 4.8/8.4 MB 2.0 MB/s eta 0:00:02\n",
      "     ----------------------- ---------------- 4.9/8.4 MB 2.0 MB/s eta 0:00:02\n",
      "     ----------------------- ---------------- 4.9/8.4 MB 2.0 MB/s eta 0:00:02\n",
      "     ----------------------- ---------------- 5.0/8.4 MB 1.9 MB/s eta 0:00:02\n",
      "     ------------------------ --------------- 5.0/8.4 MB 1.9 MB/s eta 0:00:02\n",
      "     ------------------------ --------------- 5.1/8.4 MB 1.9 MB/s eta 0:00:02\n",
      "     ------------------------ --------------- 5.1/8.4 MB 1.9 MB/s eta 0:00:02\n",
      "     ------------------------ --------------- 5.2/8.4 MB 1.9 MB/s eta 0:00:02\n",
      "     ------------------------ --------------- 5.2/8.4 MB 1.9 MB/s eta 0:00:02\n",
      "     ------------------------- -------------- 5.3/8.4 MB 1.9 MB/s eta 0:00:02\n",
      "     ------------------------- -------------- 5.3/8.4 MB 1.9 MB/s eta 0:00:02\n",
      "     ------------------------- -------------- 5.4/8.4 MB 1.9 MB/s eta 0:00:02\n",
      "     ------------------------- -------------- 5.4/8.4 MB 1.8 MB/s eta 0:00:02\n",
      "     ------------------------- -------------- 5.4/8.4 MB 1.8 MB/s eta 0:00:02\n",
      "     -------------------------- ------------- 5.5/8.4 MB 1.8 MB/s eta 0:00:02\n",
      "     -------------------------- ------------- 5.5/8.4 MB 1.8 MB/s eta 0:00:02\n",
      "     -------------------------- ------------- 5.6/8.4 MB 1.8 MB/s eta 0:00:02\n",
      "     -------------------------- ------------- 5.6/8.4 MB 1.8 MB/s eta 0:00:02\n",
      "     -------------------------- ------------- 5.6/8.4 MB 1.8 MB/s eta 0:00:02\n",
      "     -------------------------- ------------- 5.6/8.4 MB 1.7 MB/s eta 0:00:02\n",
      "     -------------------------- ------------- 5.6/8.4 MB 1.7 MB/s eta 0:00:02\n",
      "     --------------------------- ------------ 5.7/8.4 MB 1.7 MB/s eta 0:00:02\n",
      "     --------------------------- ------------ 5.7/8.4 MB 1.7 MB/s eta 0:00:02\n",
      "     --------------------------- ------------ 5.7/8.4 MB 1.7 MB/s eta 0:00:02\n",
      "     --------------------------- ------------ 5.7/8.4 MB 1.7 MB/s eta 0:00:02\n",
      "     --------------------------- ------------ 5.7/8.4 MB 1.7 MB/s eta 0:00:02\n",
      "     --------------------------- ------------ 5.8/8.4 MB 1.6 MB/s eta 0:00:02\n",
      "     --------------------------- ------------ 5.8/8.4 MB 1.6 MB/s eta 0:00:02\n",
      "     --------------------------- ------------ 5.8/8.4 MB 1.6 MB/s eta 0:00:02\n",
      "     --------------------------- ------------ 5.8/8.4 MB 1.6 MB/s eta 0:00:02\n",
      "     ---------------------------- ----------- 5.9/8.4 MB 1.6 MB/s eta 0:00:02\n",
      "     ---------------------------- ----------- 5.9/8.4 MB 1.6 MB/s eta 0:00:02\n",
      "     ---------------------------- ----------- 5.9/8.4 MB 1.6 MB/s eta 0:00:02\n",
      "     ---------------------------- ----------- 6.0/8.4 MB 1.5 MB/s eta 0:00:02\n",
      "     ---------------------------- ----------- 6.0/8.4 MB 1.5 MB/s eta 0:00:02\n",
      "     ---------------------------- ----------- 6.0/8.4 MB 1.5 MB/s eta 0:00:02\n",
      "     ----------------------------- ---------- 6.1/8.4 MB 1.5 MB/s eta 0:00:02\n",
      "     ----------------------------- ---------- 6.1/8.4 MB 1.5 MB/s eta 0:00:02\n",
      "     ----------------------------- ---------- 6.1/8.4 MB 1.5 MB/s eta 0:00:02\n",
      "     ----------------------------- ---------- 6.1/8.4 MB 1.5 MB/s eta 0:00:02\n",
      "     ----------------------------- ---------- 6.2/8.4 MB 1.5 MB/s eta 0:00:02\n",
      "     ----------------------------- ---------- 6.2/8.4 MB 1.5 MB/s eta 0:00:02\n",
      "     ----------------------------- ---------- 6.2/8.4 MB 1.4 MB/s eta 0:00:02\n",
      "     ----------------------------- ---------- 6.2/8.4 MB 1.4 MB/s eta 0:00:02\n",
      "     ------------------------------ --------- 6.3/8.4 MB 1.4 MB/s eta 0:00:02\n",
      "     ------------------------------ --------- 6.3/8.4 MB 1.4 MB/s eta 0:00:02\n",
      "     ------------------------------ --------- 6.4/8.4 MB 1.4 MB/s eta 0:00:02\n",
      "     ------------------------------ --------- 6.4/8.4 MB 1.4 MB/s eta 0:00:02\n",
      "     ------------------------------ --------- 6.4/8.4 MB 1.4 MB/s eta 0:00:02\n",
      "     ------------------------------ --------- 6.4/8.4 MB 1.4 MB/s eta 0:00:02\n",
      "     ------------------------------ --------- 6.4/8.4 MB 1.4 MB/s eta 0:00:02\n",
      "     ------------------------------ --------- 6.5/8.4 MB 1.4 MB/s eta 0:00:02\n",
      "     ------------------------------ --------- 6.5/8.4 MB 1.4 MB/s eta 0:00:02\n",
      "     ------------------------------ --------- 6.5/8.4 MB 1.4 MB/s eta 0:00:02\n",
      "     ------------------------------ --------- 6.5/8.4 MB 1.3 MB/s eta 0:00:02\n",
      "     ------------------------------- -------- 6.5/8.4 MB 1.3 MB/s eta 0:00:02\n",
      "     ------------------------------- -------- 6.5/8.4 MB 1.3 MB/s eta 0:00:02\n",
      "     ------------------------------- -------- 6.5/8.4 MB 1.3 MB/s eta 0:00:02\n",
      "     ------------------------------- -------- 6.6/8.4 MB 1.3 MB/s eta 0:00:02\n",
      "     ------------------------------- -------- 6.6/8.4 MB 1.3 MB/s eta 0:00:02\n",
      "     ------------------------------- -------- 6.6/8.4 MB 1.3 MB/s eta 0:00:02\n",
      "     ------------------------------- -------- 6.6/8.4 MB 1.3 MB/s eta 0:00:02\n",
      "     ------------------------------- -------- 6.6/8.4 MB 1.3 MB/s eta 0:00:02\n",
      "     ------------------------------- -------- 6.6/8.4 MB 1.3 MB/s eta 0:00:02\n",
      "     ------------------------------- -------- 6.7/8.4 MB 1.3 MB/s eta 0:00:02\n",
      "     ------------------------------- -------- 6.7/8.4 MB 1.3 MB/s eta 0:00:02\n",
      "     -------------------------------- ------- 6.7/8.4 MB 1.2 MB/s eta 0:00:02\n",
      "     -------------------------------- ------- 6.7/8.4 MB 1.2 MB/s eta 0:00:02\n",
      "     -------------------------------- ------- 6.8/8.4 MB 1.2 MB/s eta 0:00:02\n",
      "     -------------------------------- ------- 6.8/8.4 MB 1.2 MB/s eta 0:00:02\n",
      "     -------------------------------- ------- 6.8/8.4 MB 1.2 MB/s eta 0:00:02\n",
      "     -------------------------------- ------- 6.9/8.4 MB 1.2 MB/s eta 0:00:02\n",
      "     -------------------------------- ------- 6.9/8.4 MB 1.2 MB/s eta 0:00:02\n",
      "     --------------------------------- ------ 6.9/8.4 MB 1.2 MB/s eta 0:00:02\n",
      "     --------------------------------- ------ 7.0/8.4 MB 1.2 MB/s eta 0:00:02\n",
      "     --------------------------------- ------ 7.0/8.4 MB 1.2 MB/s eta 0:00:02\n",
      "     --------------------------------- ------ 7.1/8.4 MB 1.2 MB/s eta 0:00:02\n",
      "     ---------------------------------- ----- 7.1/8.4 MB 1.2 MB/s eta 0:00:02\n",
      "     ---------------------------------- ----- 7.2/8.4 MB 1.2 MB/s eta 0:00:02\n",
      "     ---------------------------------- ----- 7.2/8.4 MB 1.2 MB/s eta 0:00:01\n",
      "     ---------------------------------- ----- 7.2/8.4 MB 1.2 MB/s eta 0:00:01\n",
      "     ---------------------------------- ----- 7.3/8.4 MB 1.2 MB/s eta 0:00:01\n",
      "     ----------------------------------- ---- 7.4/8.4 MB 1.2 MB/s eta 0:00:01\n",
      "     ----------------------------------- ---- 7.4/8.4 MB 1.2 MB/s eta 0:00:01\n",
      "     ----------------------------------- ---- 7.4/8.4 MB 1.2 MB/s eta 0:00:01\n",
      "     ----------------------------------- ---- 7.4/8.4 MB 1.2 MB/s eta 0:00:01\n",
      "     ----------------------------------- ---- 7.5/8.4 MB 1.2 MB/s eta 0:00:01\n",
      "     ----------------------------------- ---- 7.5/8.4 MB 1.2 MB/s eta 0:00:01\n",
      "     ----------------------------------- ---- 7.5/8.4 MB 1.2 MB/s eta 0:00:01\n",
      "     ------------------------------------ --- 7.5/8.4 MB 1.2 MB/s eta 0:00:01\n",
      "     ------------------------------------ --- 7.5/8.4 MB 1.2 MB/s eta 0:00:01\n",
      "     ------------------------------------ --- 7.6/8.4 MB 1.2 MB/s eta 0:00:01\n",
      "     ------------------------------------ --- 7.6/8.4 MB 1.2 MB/s eta 0:00:01\n",
      "     ------------------------------------ --- 7.6/8.4 MB 1.2 MB/s eta 0:00:01\n",
      "     ------------------------------------ --- 7.7/8.4 MB 1.2 MB/s eta 0:00:01\n",
      "     ------------------------------------ --- 7.7/8.4 MB 1.2 MB/s eta 0:00:01\n",
      "     ------------------------------------ --- 7.7/8.4 MB 1.2 MB/s eta 0:00:01\n",
      "     ------------------------------------- -- 7.8/8.4 MB 1.2 MB/s eta 0:00:01\n",
      "     ------------------------------------- -- 7.8/8.4 MB 1.2 MB/s eta 0:00:01\n",
      "     ------------------------------------- -- 7.8/8.4 MB 1.1 MB/s eta 0:00:01\n",
      "     ------------------------------------- -- 7.9/8.4 MB 1.1 MB/s eta 0:00:01\n",
      "     ------------------------------------- -- 7.9/8.4 MB 1.1 MB/s eta 0:00:01\n",
      "     ------------------------------------- -- 7.9/8.4 MB 1.1 MB/s eta 0:00:01\n",
      "     ------------------------------------- -- 7.9/8.4 MB 1.1 MB/s eta 0:00:01\n",
      "     ------------------------------------- -- 7.9/8.4 MB 1.1 MB/s eta 0:00:01\n",
      "     ------------------------------------- -- 7.9/8.4 MB 1.1 MB/s eta 0:00:01\n",
      "     ------------------------------------- -- 7.9/8.4 MB 1.1 MB/s eta 0:00:01\n",
      "     -------------------------------------- - 8.0/8.4 MB 1.1 MB/s eta 0:00:01\n",
      "     -------------------------------------- - 8.0/8.4 MB 1.1 MB/s eta 0:00:01\n",
      "     -------------------------------------- - 8.0/8.4 MB 1.1 MB/s eta 0:00:01\n",
      "     -------------------------------------- - 8.0/8.4 MB 1.1 MB/s eta 0:00:01\n",
      "     -------------------------------------- - 8.1/8.4 MB 1.1 MB/s eta 0:00:01\n",
      "     -------------------------------------- - 8.1/8.4 MB 1.1 MB/s eta 0:00:01\n",
      "     -------------------------------------- - 8.1/8.4 MB 1.1 MB/s eta 0:00:01\n",
      "     -------------------------------------- - 8.1/8.4 MB 1.1 MB/s eta 0:00:01\n",
      "     -------------------------------------- - 8.2/8.4 MB 1.1 MB/s eta 0:00:01\n",
      "     -------------------------------------- - 8.2/8.4 MB 1.1 MB/s eta 0:00:01\n",
      "     ---------------------------------------  8.2/8.4 MB 1.1 MB/s eta 0:00:01\n",
      "     ---------------------------------------  8.2/8.4 MB 1.1 MB/s eta 0:00:01\n",
      "     ---------------------------------------  8.2/8.4 MB 1.1 MB/s eta 0:00:01\n",
      "     ---------------------------------------  8.2/8.4 MB 1.1 MB/s eta 0:00:01\n",
      "     ---------------------------------------  8.2/8.4 MB 1.0 MB/s eta 0:00:01\n",
      "     ---------------------------------------  8.3/8.4 MB 1.0 MB/s eta 0:00:01\n",
      "     ---------------------------------------  8.3/8.4 MB 1.0 MB/s eta 0:00:01\n",
      "     ---------------------------------------  8.3/8.4 MB 1.0 MB/s eta 0:00:01\n",
      "     ---------------------------------------  8.3/8.4 MB 1.0 MB/s eta 0:00:01\n",
      "     ---------------------------------------  8.3/8.4 MB 1.0 MB/s eta 0:00:01\n",
      "     ---------------------------------------  8.3/8.4 MB 1.0 MB/s eta 0:00:01\n",
      "     ---------------------------------------  8.4/8.4 MB 1.0 MB/s eta 0:00:01\n",
      "     ---------------------------------------  8.4/8.4 MB 1.0 MB/s eta 0:00:01\n",
      "     ---------------------------------------- 8.4/8.4 MB 1.0 MB/s eta 0:00:00\n",
      "Requirement already satisfied: statsmodels in c:\\users\\980171\\anaconda3\\envs\\telkom_athon\\lib\\site-packages (0.14.0)\n",
      "Requirement already satisfied: scipy>=1.3.2 in c:\\users\\980171\\anaconda3\\envs\\telkom_athon\\lib\\site-packages (from scikit-learn) (1.10.1)\n",
      "Collecting threadpoolctl>=2.0.0\n",
      "  Downloading threadpoolctl-3.1.0-py3-none-any.whl (14 kB)\n",
      "Collecting joblib>=1.1.1\n",
      "  Downloading joblib-1.2.0-py3-none-any.whl (297 kB)\n",
      "     ---------------------------------------- 0.0/298.0 kB ? eta -:--:--\n",
      "     - -------------------------------------- 10.2/298.0 kB ? eta -:--:--\n",
      "     --- --------------------------------- 30.7/298.0 kB 435.7 kB/s eta 0:00:01\n",
      "     ----- ------------------------------- 41.0/298.0 kB 495.5 kB/s eta 0:00:01\n",
      "     ------- ----------------------------- 61.4/298.0 kB 469.7 kB/s eta 0:00:01\n",
      "     ---------- -------------------------- 81.9/298.0 kB 459.5 kB/s eta 0:00:01\n",
      "     ----------- ------------------------- 92.2/298.0 kB 375.8 kB/s eta 0:00:01\n",
      "     ------------- ---------------------- 112.6/298.0 kB 409.6 kB/s eta 0:00:01\n",
      "     -------------- --------------------- 122.9/298.0 kB 379.3 kB/s eta 0:00:01\n",
      "     ----------------- ------------------ 143.4/298.0 kB 405.9 kB/s eta 0:00:01\n",
      "     --------------------- -------------- 174.1/298.0 kB 403.5 kB/s eta 0:00:01\n",
      "     ----------------------- ------------ 194.6/298.0 kB 406.9 kB/s eta 0:00:01\n",
      "     ------------------------ ----------- 204.8/298.0 kB 377.8 kB/s eta 0:00:01\n",
      "     ----------------------------- ------ 245.8/298.0 kB 419.1 kB/s eta 0:00:01\n",
      "     ------------------------------ ----- 256.0/298.0 kB 403.5 kB/s eta 0:00:01\n",
      "     --------------------------------- -- 276.5/298.0 kB 405.9 kB/s eta 0:00:01\n",
      "     --------------------------------- -- 276.5/298.0 kB 405.9 kB/s eta 0:00:01\n",
      "     -----------------------------------  297.0/298.0 kB 382.3 kB/s eta 0:00:01\n",
      "     ------------------------------------ 298.0/298.0 kB 368.4 kB/s eta 0:00:00\n",
      "Requirement already satisfied: pandas>=1.0 in c:\\users\\980171\\anaconda3\\envs\\telkom_athon\\lib\\site-packages (from statsmodels) (1.1.5)\n",
      "Requirement already satisfied: patsy>=0.5.2 in c:\\users\\980171\\anaconda3\\envs\\telkom_athon\\lib\\site-packages (from statsmodels) (0.5.3)\n",
      "Requirement already satisfied: packaging>=21.3 in c:\\users\\980171\\anaconda3\\envs\\telkom_athon\\lib\\site-packages (from statsmodels) (23.0)\n",
      "Requirement already satisfied: pytz>=2017.2 in c:\\users\\980171\\anaconda3\\envs\\telkom_athon\\lib\\site-packages (from pandas>=1.0->statsmodels) (2023.3)\n",
      "Requirement already satisfied: python-dateutil>=2.7.3 in c:\\users\\980171\\anaconda3\\envs\\telkom_athon\\lib\\site-packages (from pandas>=1.0->statsmodels) (2.8.2)\n",
      "Requirement already satisfied: six in c:\\users\\980171\\anaconda3\\envs\\telkom_athon\\lib\\site-packages (from patsy>=0.5.2->statsmodels) (1.16.0)\n",
      "Installing collected packages: threadpoolctl, joblib, scikit-learn\n",
      "Successfully installed joblib-1.2.0 scikit-learn-1.2.2 threadpoolctl-3.1.0\n"
     ]
    }
   ],
   "source": [
    "!pip install numpy scikit-learn statsmodels"
   ]
  },
  {
   "cell_type": "code",
   "execution_count": 36,
   "id": "59389a0f",
   "metadata": {},
   "outputs": [],
   "source": [
    "import numpy as np\n",
    "from sklearn.linear_model import LinearRegression"
   ]
  },
  {
   "cell_type": "code",
   "execution_count": 42,
   "id": "109ac03d",
   "metadata": {},
   "outputs": [
    {
     "name": "stdout",
     "output_type": "stream",
     "text": [
      "coefficient of determination: 0.062464372121782574\n",
      "intercept: 18.390088330493388\n",
      "slope: [1.09161302]\n",
      "Predicted response: [22.85478557 23.81223934 23.81223934 25.00766476 25.00766476 25.00766476\n",
      " 24.46000251 24.88573158 25.02938785 25.58611049 25.31822866 25.1872351\n",
      " 24.34036172 23.5288566  23.26075645 23.30081864 23.30081864 23.03806739\n",
      " 22.53439715 22.53439715 22.5359254  22.76996723 22.73132413 22.86046195\n",
      " 23.19274895 23.25278767 23.50102047 23.25147774 23.25289683 23.0174359\n",
      " 23.01088623 22.94757267 22.74562426 22.52424514 22.49433495 22.05823555\n",
      " 22.07744794 22.68471226 22.58985109 24.28599939 24.28599939 24.63509723\n",
      " 24.63509723 24.63509723 24.63509723 23.95775136 23.95775136 24.60071142\n",
      " 24.79785673 25.03550089 25.82910355 25.82910355 25.82910355 25.82910355\n",
      " 26.38036812 27.88341008 28.41939207 27.47754836 26.92082573 25.95714976\n",
      " 26.27742902 25.83325168 26.27753818 27.10214265 28.45792601 25.60728778\n",
      " 25.60728778 25.48338971 25.48338971 25.48338971 24.16177383 24.16177383\n",
      " 24.16177383 24.16177383 23.03108107 23.3051851  22.81352259 22.85533137\n",
      " 23.86354515 23.3051851  24.28556275 24.28556275 24.28556275 24.28556275\n",
      " 23.60734358 23.23433941 23.22287747 22.48101727 22.12526059 22.11740097\n",
      " 21.76568326 21.76546494 22.39183249 22.39183249 22.33626938 22.20549414\n",
      " 22.20549414 22.20549414 22.20549414 22.20549414 21.42237097 21.50784427\n",
      " 21.35349018 21.35349018 21.03288344 20.69000779 20.80364471 20.7069278\n",
      " 21.04587364 21.16835262 21.42237097 21.31288218 20.9590904  21.17151829\n",
      " 20.8533131  21.07884035 21.37030103 21.38918593 21.09455958 21.40206696\n",
      " 20.85462304 20.78879877 20.66817553 20.51262068 20.58019152 20.56556391\n",
      " 20.30827072 20.34221989 20.36863692 20.55137294 20.7026705  20.86914149\n",
      " 20.93070846 21.08626332 20.95101247 20.69415592 20.53718197 20.40935409\n",
      " 20.21155381 20.21166297 20.14965935 19.96135611 19.83276409 19.93122759\n",
      " 19.85929029 19.93919636 20.04562863 19.98471662 20.0598196  20.05556231\n",
      " 20.15631819 20.12749961 20.14780361 20.16199458 20.29975614 20.29549885\n",
      " 20.28556517 20.43937345 20.30837988 20.31776776 20.35324518 20.54154842\n",
      " 20.61774301 20.75015567 21.03397505 20.88267749 20.6234194  21.03823235\n",
      " 20.68247566 20.85986278 21.03823235 20.99762434 21.22402488 21.27882385\n",
      " 21.33951754 21.80934778 22.27066344 22.01151451 21.57246776 21.47826155\n",
      " 21.38219961 21.22598978 21.33809844 21.49791059 21.65171886 21.97025154\n",
      " 21.88237669 22.5257734  23.37515749 23.37515749 25.46352235 25.46352235\n",
      " 25.46352235 25.17948464 25.17948464 24.55595529 26.36868786 26.36868786\n",
      " 26.36868786 26.74463939 26.74463939 25.23450194 25.23450194 23.97696375\n",
      " 23.97696375 22.69693832 23.14395385 23.14395385 23.01765423 22.62008877\n",
      " 22.62238115 22.39085003 22.37731403 22.69693832 22.30625002 22.69693832\n",
      " 21.7872972  22.12460562 21.54408582 22.06151039 21.5139573  21.7173248\n",
      " 21.96195528 21.96195528 21.54965304 21.54965304 21.90038831 21.90038831\n",
      " 22.07439142 22.07439142 22.39794552 22.39794552 22.58013573 22.3765499\n",
      " 22.3765499  22.3765499  22.91809912 22.91809912 25.14706374 25.14706374\n",
      " 25.30665756 25.30665756 26.0701317  26.0701317  27.07376071 27.07376071\n",
      " 27.18357698 27.18357698 26.9335976  26.9335976  26.46442232 26.46442232\n",
      " 28.11275798 28.11275798 28.45508782 28.45508782 25.30665756 20.35608337\n",
      " 20.45825835 20.58499462 20.69568418 20.72592186 20.88824472 20.65933347\n",
      " 20.49701061 20.55857759 20.71838973 21.03353841 21.52520091 22.66648232\n",
      " 23.22484238 23.22484238 22.66648232 23.15661656 22.84124956 23.04832855\n",
      " 23.61585816 23.6983841  22.9096937  22.86646582 23.51488396 24.11527111\n",
      " 24.07946621 24.81423093 26.36683212 26.36683212 28.31197735 26.37763909\n",
      " 26.37763909 26.37763909 23.97554465 23.97554465 23.97554465 24.39690727\n",
      " 24.39690727 24.89653855 24.89653855 25.28908259 26.9350167  26.9350167\n",
      " 26.9350167  24.38489953 24.38489953 24.38489953 22.78055588 22.06882419\n",
      " 21.77321539 21.86436508 22.01151451 21.77681771 21.14029816 21.27227418\n",
      " 21.48371962 21.95180328 22.3224059  22.69650168 22.75501214 22.79114453\n",
      " 22.24621131 22.75861446 23.34644807 23.34644807 23.54370254 23.54370254\n",
      " 23.54370254 24.30215526 24.30215526 24.30215526 24.08241356 24.08241356\n",
      " 24.80178654 25.63916288 25.63916288 25.44016183 25.44016183 24.92371971\n",
      " 24.10042518 24.51949541 23.64314849 23.64314849 23.64314849 26.07275157\n",
      " 25.23111794 24.6473233  25.44780312 27.13783839 27.13783839 27.7073329\n",
      " 27.49850733 27.98765913 27.98765913 30.08159121 30.08159121 31.62753357\n",
      " 29.94557623 29.94557623 20.70670947 21.12479726 21.36222309 21.12905455\n",
      " 21.13898823 20.89588601 20.68640547 20.46928364 20.46928364 20.15107845\n",
      " 20.30292182 20.03907895 19.84466267 19.87107971 19.70264382 19.66629311\n",
      " 19.62317439 19.67186033 19.63125233 19.82697854 19.85819868 19.87249881\n",
      " 19.90317313 19.90317313 19.93635817 20.04846682 20.11527354 20.06364025\n",
      " 19.96146527 19.94683765 19.99170295 20.04759353 20.12520722 20.27650478\n",
      " 20.49308081 20.75648703 20.32224337 20.34538556 20.33545189 20.27388491\n",
      " 20.22050504 20.17312903 20.01615508 20.0279445  20.12444309 20.10839638\n",
      " 20.17924206 20.24888697 20.14474709 19.94607352 19.67611762 19.79302938\n",
      " 19.97805778 19.98984721 19.93253752 20.05752721 20.0863458  20.12509806\n",
      " 20.20020103 20.39287073 20.37627821 20.18852077 20.35782995 20.34844208\n",
      " 20.41928777 20.43642609 20.52004365 20.59711153 20.64263179 20.47463255\n",
      " 20.57069449 20.42365422 20.50301448 20.53860107 20.63084237 20.66959463\n",
      " 20.79207361 20.91804575 20.81587077 20.70943851 20.57615256 20.47965397\n",
      " 20.37747899 20.3737675  20.42725654 20.64437837 20.5785541  20.54973552\n",
      " 20.45934996 20.56010584 20.6519105  20.78945374 20.85888033 20.77526277\n",
      " 20.92656033 20.96105531 20.97524627 21.06748757 21.11486358 21.04903931\n",
      " 21.20710488 21.42389922 21.42815651 21.3565467  21.22555314 21.1923681\n",
      " 21.37499496 21.44835136 21.62497434 21.73751964 21.52465511 21.16311287\n",
      " 21.56493563 21.472476   21.70138725 21.77332455 21.55194543 21.15503494\n",
      " 21.04248964 20.79818664 20.90658382 20.68323979 20.75943438 20.52004365\n",
      " 22.12798962 22.02701542 22.11314368 22.86384595 22.4552552  22.74748001\n",
      " 22.26083892 21.83118004 20.37780647 20.30630582 20.37966221 20.42933061\n",
      " 20.69328263 20.98998305 20.98998305 21.44507652 21.44507652 21.5477973\n",
      " 21.01989325 21.00985041 21.11715597 21.09576035 20.8871531  20.75615954\n",
      " 20.99784266 21.12457894]\n"
     ]
    }
   ],
   "source": [
    "import numpy as np\n",
    "import pandas as pd\n",
    "from sklearn.linear_model import LinearRegression\n",
    "\n",
    "# Import your data into Python\n",
    "df = pd.read_csv(boston_url)\n",
    "\n",
    "# Create a numpy array of data\n",
    "x = np.array(df['DIS']).reshape((-1, 1))\n",
    "y = np.array(df['MEDV'])\n",
    "\n",
    "# Create an instance of a linear regression model and fit it to the data\n",
    "model = LinearRegression().fit(x, y)\n",
    "\n",
    "# Obtain the coefficient of determination\n",
    "r_sq = model.score(x, y)\n",
    "print('coefficient of determination:', r_sq)\n",
    "\n",
    "# Print the Intercept\n",
    "print('intercept:', model.intercept_)\n",
    "\n",
    "# Print the Slope\n",
    "print('slope:', model.coef_)\n",
    "\n",
    "# Predict a Response and print it\n",
    "y_pred = model.predict(x)\n",
    "print('Predicted response:', y_pred)"
   ]
  },
  {
   "cell_type": "code",
   "execution_count": null,
   "id": "ce8eb6ae",
   "metadata": {},
   "outputs": [],
   "source": []
  }
 ],
 "metadata": {
  "kernelspec": {
   "display_name": "Python 3 (ipykernel)",
   "language": "python",
   "name": "python3"
  },
  "language_info": {
   "codemirror_mode": {
    "name": "ipython",
    "version": 3
   },
   "file_extension": ".py",
   "mimetype": "text/x-python",
   "name": "python",
   "nbconvert_exporter": "python",
   "pygments_lexer": "ipython3",
   "version": "3.9.16"
  }
 },
 "nbformat": 4,
 "nbformat_minor": 5
}
